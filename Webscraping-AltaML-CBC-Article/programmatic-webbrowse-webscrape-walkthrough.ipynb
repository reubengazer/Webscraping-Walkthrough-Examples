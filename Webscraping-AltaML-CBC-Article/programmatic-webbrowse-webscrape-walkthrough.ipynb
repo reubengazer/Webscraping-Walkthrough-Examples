{
 "cells": [
  {
   "cell_type": "markdown",
   "metadata": {},
   "source": [
    "# **Browsing the Web Programmatically: Pointing-and-Clicking on the Web with Selenium**\n",
    "\n",
    "**Author:** Reuben S. Gazer (AltaML)  \n",
    "**Date Started:** June 11, 2019"
   ]
  },
  {
   "cell_type": "markdown",
   "metadata": {},
   "source": [
    "**In this notebook, we will learn how to:**  \n",
    "\n",
    "- **click buttons on webpages programmatically** (without opening a browser yourself and clicking manually)\n",
    "- **submit text to search boxes on webpages** (like Google Search, Wikipedia, Twitter, etc.)\n",
    "- **scrape web data from some resulting page** (although you can learn this in the simple-weather-webscrape-walkthrough)\n",
    "\n",
    "all using the **selenium** python package (specifically built for web-browser automation)."
   ]
  },
  {
   "cell_type": "markdown",
   "metadata": {},
   "source": [
    "****\n",
    "\n",
    "In the simple-webscrape-example-walkthrough, we directly pulled HTML content from webpages off of the Weather Network website.  \n",
    "We were lucky enough that the website URL structure for the forecast of a given city was quite simple.  \n",
    "\n",
    "For Edmonton, the URL was:\n",
    "\n",
    "www.theweathernetwork.com/ca/weather/alberta/edmonton\n",
    "\n",
    "For Calgary, the URL would be:\n",
    "\n",
    "www.theweathernetwork.com/ca/weather/alberta/calgary\n",
    "\n",
    "There are times when the URL for something of this nature is not so easy to predict in advance, and you may need to do some clicking and/or searching from some starting URL.  \n",
    "\n",
    "**Motivation of our Example Walkthrough**\n",
    "\n",
    "I needed to retrieve information about the hours of operation of ~200 Fountain Tire branches for a deep dive. For reasons related to inconsistencies in returned HTML documents and problems scraping from the Google Search page (they want you to use their API), I had to do some retrieval through the Fountain Tire website.  \n",
    "\n",
    "To retrieve the hours of operation for a Fountain Tire branch via their website, I needed to:  \n",
    "\n",
    "- open up the Fountain Tire website\n",
    "- go to the Store Locator\n",
    "- search a specific branch by its address in a search box and click \"submit\" \n",
    "- click the top result returned on the following page to select it\n",
    "- click another button to expand the CSS element showing the hours of operation\n",
    "\n",
    "...for a few hundred Fountain Tire branches! Surely this could be automated. Using _selenium_ we can click around, submit text into boxes, expand page elements, as well as do regular scraping of content once we've arrived at the desired page.\n",
    "\n",
    "**In this example, we will do a similar procedure on the CBC news website.**  "
   ]
  },
  {
   "cell_type": "markdown",
   "metadata": {},
   "source": [
    "### **Example Walkthrough: Scraping the Content of a News Article from CBC**"
   ]
  },
  {
   "cell_type": "markdown",
   "metadata": {},
   "source": [
    "**Goal**: Retrieve the content of a news article about AltaML from the CBC website."
   ]
  },
  {
   "cell_type": "markdown",
   "metadata": {},
   "source": [
    "First, import the web-driver from the selenium package."
   ]
  },
  {
   "cell_type": "code",
   "execution_count": 1,
   "metadata": {},
   "outputs": [],
   "source": [
    "from selenium import webdriver"
   ]
  },
  {
   "cell_type": "markdown",
   "metadata": {},
   "source": [
    "Initiate the homepage URL from which we will be searching for AltaML-related articles."
   ]
  },
  {
   "cell_type": "code",
   "execution_count": 2,
   "metadata": {},
   "outputs": [],
   "source": [
    "url = 'https://www.cbc.ca/news'"
   ]
  },
  {
   "cell_type": "markdown",
   "metadata": {},
   "source": [
    "Go visit this site manually in another browser tab, and look at the homepage.  \n",
    "In the upper right corner there is a search-button that looks like a magnifying glass.  \n",
    "If you click this, a search bar opens up in which we want to type and submit the term 'AltaML'.  \n",
    "After you type in 'AltaML', you need to press the \"Search\" button to submit this request.\n",
    "\n",
    "Let's start the web-driver and perform these actions.  \n",
    "In the simple-weather-webscrape walkthrough, we suppressed the physical opening of the browser and instead allowed it to be done in the background.  \n",
    "The source code provided in the _.py_ file will give you that option, but I think it is informative to actually _see_ the browser opening and the actions completed automatically in front of you, so here we will not suppress browser opening.  \n",
    "Just keep this in mind!"
   ]
  },
  {
   "cell_type": "code",
   "execution_count": 11,
   "metadata": {},
   "outputs": [],
   "source": [
    "driver = webdriver.Firefox()"
   ]
  },
  {
   "cell_type": "markdown",
   "metadata": {},
   "source": [
    "We should also make the driver wait a few seconds for things to load, to make sure the elements we would like to interact with are actually there:"
   ]
  },
  {
   "cell_type": "code",
   "execution_count": 12,
   "metadata": {},
   "outputs": [],
   "source": [
    "wait_time = 10 # seconds\n",
    "driver.implicitly_wait(wait_time)"
   ]
  },
  {
   "cell_type": "markdown",
   "metadata": {},
   "source": [
    "Ask the web-driver to open up the homepage of CBC."
   ]
  },
  {
   "cell_type": "code",
   "execution_count": 13,
   "metadata": {},
   "outputs": [],
   "source": [
    "driver.get(url)"
   ]
  },
  {
   "cell_type": "markdown",
   "metadata": {},
   "source": [
    "Now we want to click the magnifying-glass in the upper right corner to open the search box.  \n",
    "We can do this by _finding an HTML element_, then performing the _click()_ method _on_ that element.  \n",
    "First we need to identify the element - right click the magnifying glass in your browser and click \"Inspect Element\" or \"Inspect\" to open the HTML source code.  \n",
    "\n",
    "Here is the result of inspecting the magnifying-glass element:"
   ]
  },
  {
   "cell_type": "markdown",
   "metadata": {},
   "source": [
    "<img src='../img/cbc-webscraping-1.png'>"
   ]
  },
  {
   "cell_type": "markdown",
   "metadata": {},
   "source": [
    "The element we want to click is looks like an _svg_ element with class=\"searchIcon headerSearch\".  \n",
    "\n",
    "Selenium has a number of options for selecting HTML elements, such as :\n",
    "\n",
    "driver.find_element_by_xpath()  \n",
    "driver.find_element_by_css_selector()  \n",
    "driver.find_element_by_id()  \n",
    "driver.find_element_by_class_name()\n",
    "driver.find_element_by_name()\n",
    "\n",
    "...and so on. Feel free to check these out on your own.\n",
    "\n",
    "It seems reasonable to retrieve this element by its class name, however if you try to select the _svg_ element with class=\"searchIcon headerSearch\" it will show that this element is not found:"
   ]
  },
  {
   "cell_type": "code",
   "execution_count": 25,
   "metadata": {},
   "outputs": [
    {
     "ename": "NoSuchElementException",
     "evalue": "Message: Unable to locate element: .searchIcon headerSearch\n",
     "output_type": "error",
     "traceback": [
      "\u001b[0;31m---------------------------------------------------------------------------\u001b[0m",
      "\u001b[0;31mNoSuchElementException\u001b[0m                    Traceback (most recent call last)",
      "\u001b[0;32m<ipython-input-25-e2a1ef5ee3f6>\u001b[0m in \u001b[0;36m<module>\u001b[0;34m\u001b[0m\n\u001b[0;32m----> 1\u001b[0;31m \u001b[0msearch_element\u001b[0m \u001b[0;34m=\u001b[0m \u001b[0mdriver\u001b[0m\u001b[0;34m.\u001b[0m\u001b[0mfind_element_by_class_name\u001b[0m\u001b[0;34m(\u001b[0m\u001b[0;34m\"searchIcon headerSearch\"\u001b[0m\u001b[0;34m)\u001b[0m\u001b[0;34m\u001b[0m\u001b[0;34m\u001b[0m\u001b[0m\n\u001b[0m",
      "\u001b[0;32m/usr/lib/python3/dist-packages/selenium/webdriver/remote/webdriver.py\u001b[0m in \u001b[0;36mfind_element_by_class_name\u001b[0;34m(self, name)\u001b[0m\n\u001b[1;32m    486\u001b[0m             \u001b[0mdriver\u001b[0m\u001b[0;34m.\u001b[0m\u001b[0mfind_element_by_class_name\u001b[0m\u001b[0;34m(\u001b[0m\u001b[0;34m'foo'\u001b[0m\u001b[0;34m)\u001b[0m\u001b[0;34m\u001b[0m\u001b[0;34m\u001b[0m\u001b[0m\n\u001b[1;32m    487\u001b[0m         \"\"\"\n\u001b[0;32m--> 488\u001b[0;31m         \u001b[0;32mreturn\u001b[0m \u001b[0mself\u001b[0m\u001b[0;34m.\u001b[0m\u001b[0mfind_element\u001b[0m\u001b[0;34m(\u001b[0m\u001b[0mby\u001b[0m\u001b[0;34m=\u001b[0m\u001b[0mBy\u001b[0m\u001b[0;34m.\u001b[0m\u001b[0mCLASS_NAME\u001b[0m\u001b[0;34m,\u001b[0m \u001b[0mvalue\u001b[0m\u001b[0;34m=\u001b[0m\u001b[0mname\u001b[0m\u001b[0;34m)\u001b[0m\u001b[0;34m\u001b[0m\u001b[0;34m\u001b[0m\u001b[0m\n\u001b[0m\u001b[1;32m    489\u001b[0m \u001b[0;34m\u001b[0m\u001b[0m\n\u001b[1;32m    490\u001b[0m     \u001b[0;32mdef\u001b[0m \u001b[0mfind_elements_by_class_name\u001b[0m\u001b[0;34m(\u001b[0m\u001b[0mself\u001b[0m\u001b[0;34m,\u001b[0m \u001b[0mname\u001b[0m\u001b[0;34m)\u001b[0m\u001b[0;34m:\u001b[0m\u001b[0;34m\u001b[0m\u001b[0;34m\u001b[0m\u001b[0m\n",
      "\u001b[0;32m/usr/lib/python3/dist-packages/selenium/webdriver/remote/webdriver.py\u001b[0m in \u001b[0;36mfind_element\u001b[0;34m(self, by, value)\u001b[0m\n\u001b[1;32m    856\u001b[0m         return self.execute(Command.FIND_ELEMENT, {\n\u001b[1;32m    857\u001b[0m             \u001b[0;34m'using'\u001b[0m\u001b[0;34m:\u001b[0m \u001b[0mby\u001b[0m\u001b[0;34m,\u001b[0m\u001b[0;34m\u001b[0m\u001b[0;34m\u001b[0m\u001b[0m\n\u001b[0;32m--> 858\u001b[0;31m             'value': value})['value']\n\u001b[0m\u001b[1;32m    859\u001b[0m \u001b[0;34m\u001b[0m\u001b[0m\n\u001b[1;32m    860\u001b[0m     \u001b[0;32mdef\u001b[0m \u001b[0mfind_elements\u001b[0m\u001b[0;34m(\u001b[0m\u001b[0mself\u001b[0m\u001b[0;34m,\u001b[0m \u001b[0mby\u001b[0m\u001b[0;34m=\u001b[0m\u001b[0mBy\u001b[0m\u001b[0;34m.\u001b[0m\u001b[0mID\u001b[0m\u001b[0;34m,\u001b[0m \u001b[0mvalue\u001b[0m\u001b[0;34m=\u001b[0m\u001b[0;32mNone\u001b[0m\u001b[0;34m)\u001b[0m\u001b[0;34m:\u001b[0m\u001b[0;34m\u001b[0m\u001b[0;34m\u001b[0m\u001b[0m\n",
      "\u001b[0;32m/usr/lib/python3/dist-packages/selenium/webdriver/remote/webdriver.py\u001b[0m in \u001b[0;36mexecute\u001b[0;34m(self, driver_command, params)\u001b[0m\n\u001b[1;32m    309\u001b[0m         \u001b[0mresponse\u001b[0m \u001b[0;34m=\u001b[0m \u001b[0mself\u001b[0m\u001b[0;34m.\u001b[0m\u001b[0mcommand_executor\u001b[0m\u001b[0;34m.\u001b[0m\u001b[0mexecute\u001b[0m\u001b[0;34m(\u001b[0m\u001b[0mdriver_command\u001b[0m\u001b[0;34m,\u001b[0m \u001b[0mparams\u001b[0m\u001b[0;34m)\u001b[0m\u001b[0;34m\u001b[0m\u001b[0;34m\u001b[0m\u001b[0m\n\u001b[1;32m    310\u001b[0m         \u001b[0;32mif\u001b[0m \u001b[0mresponse\u001b[0m\u001b[0;34m:\u001b[0m\u001b[0;34m\u001b[0m\u001b[0;34m\u001b[0m\u001b[0m\n\u001b[0;32m--> 311\u001b[0;31m             \u001b[0mself\u001b[0m\u001b[0;34m.\u001b[0m\u001b[0merror_handler\u001b[0m\u001b[0;34m.\u001b[0m\u001b[0mcheck_response\u001b[0m\u001b[0;34m(\u001b[0m\u001b[0mresponse\u001b[0m\u001b[0;34m)\u001b[0m\u001b[0;34m\u001b[0m\u001b[0;34m\u001b[0m\u001b[0m\n\u001b[0m\u001b[1;32m    312\u001b[0m             response['value'] = self._unwrap_value(\n\u001b[1;32m    313\u001b[0m                 response.get('value', None))\n",
      "\u001b[0;32m/usr/lib/python3/dist-packages/selenium/webdriver/remote/errorhandler.py\u001b[0m in \u001b[0;36mcheck_response\u001b[0;34m(self, response)\u001b[0m\n\u001b[1;32m    235\u001b[0m         \u001b[0;32melif\u001b[0m \u001b[0mexception_class\u001b[0m \u001b[0;34m==\u001b[0m \u001b[0mUnexpectedAlertPresentException\u001b[0m \u001b[0;32mand\u001b[0m \u001b[0;34m'alert'\u001b[0m \u001b[0;32min\u001b[0m \u001b[0mvalue\u001b[0m\u001b[0;34m:\u001b[0m\u001b[0;34m\u001b[0m\u001b[0;34m\u001b[0m\u001b[0m\n\u001b[1;32m    236\u001b[0m             \u001b[0;32mraise\u001b[0m \u001b[0mexception_class\u001b[0m\u001b[0;34m(\u001b[0m\u001b[0mmessage\u001b[0m\u001b[0;34m,\u001b[0m \u001b[0mscreen\u001b[0m\u001b[0;34m,\u001b[0m \u001b[0mstacktrace\u001b[0m\u001b[0;34m,\u001b[0m \u001b[0mvalue\u001b[0m\u001b[0;34m[\u001b[0m\u001b[0;34m'alert'\u001b[0m\u001b[0;34m]\u001b[0m\u001b[0;34m.\u001b[0m\u001b[0mget\u001b[0m\u001b[0;34m(\u001b[0m\u001b[0;34m'text'\u001b[0m\u001b[0;34m)\u001b[0m\u001b[0;34m)\u001b[0m\u001b[0;34m\u001b[0m\u001b[0;34m\u001b[0m\u001b[0m\n\u001b[0;32m--> 237\u001b[0;31m         \u001b[0;32mraise\u001b[0m \u001b[0mexception_class\u001b[0m\u001b[0;34m(\u001b[0m\u001b[0mmessage\u001b[0m\u001b[0;34m,\u001b[0m \u001b[0mscreen\u001b[0m\u001b[0;34m,\u001b[0m \u001b[0mstacktrace\u001b[0m\u001b[0;34m)\u001b[0m\u001b[0;34m\u001b[0m\u001b[0;34m\u001b[0m\u001b[0m\n\u001b[0m\u001b[1;32m    238\u001b[0m \u001b[0;34m\u001b[0m\u001b[0m\n\u001b[1;32m    239\u001b[0m     \u001b[0;32mdef\u001b[0m \u001b[0m_value_or_default\u001b[0m\u001b[0;34m(\u001b[0m\u001b[0mself\u001b[0m\u001b[0;34m,\u001b[0m \u001b[0mobj\u001b[0m\u001b[0;34m,\u001b[0m \u001b[0mkey\u001b[0m\u001b[0;34m,\u001b[0m \u001b[0mdefault\u001b[0m\u001b[0;34m)\u001b[0m\u001b[0;34m:\u001b[0m\u001b[0;34m\u001b[0m\u001b[0;34m\u001b[0m\u001b[0m\n",
      "\u001b[0;31mNoSuchElementException\u001b[0m: Message: Unable to locate element: .searchIcon headerSearch\n"
     ]
    }
   ],
   "source": [
    "search_element = driver.find_element_by_class_name(\"searchIcon headerSearch\")"
   ]
  },
  {
   "cell_type": "markdown",
   "metadata": {},
   "source": [
    "I'm not familiar with why this error actually occurs, but often something like this magnifying-glass actually has a few elements layered on top of each other, and it is not actually the _svg_ element we need to click, it is a slightly higher level element in the tree.    \n",
    "The actual clickable element is a _link_ which opens up the text search box - links are \"a\" elements in HTML.  \n",
    "Therefore, let's try to select the \"a\" element with id=\"searchButton\" just above the _svg_ element.  \n",
    "Almost always, a search button (eg. Wikipedia follows the same suit) has this id:"
   ]
  },
  {
   "cell_type": "code",
   "execution_count": 14,
   "metadata": {},
   "outputs": [],
   "source": [
    "search_element = driver.find_element_by_id('searchButton')"
   ]
  },
  {
   "cell_type": "markdown",
   "metadata": {},
   "source": [
    "Now let's click this element with the _.click()_ method:"
   ]
  },
  {
   "cell_type": "code",
   "execution_count": 15,
   "metadata": {},
   "outputs": [],
   "source": [
    "search_element.click()"
   ]
  },
  {
   "cell_type": "markdown",
   "metadata": {},
   "source": [
    "If you are following along with the browser open, you'll see that the text-search box has appeared!  \n",
    "Following a similar method, we inspect this element to find:"
   ]
  },
  {
   "cell_type": "markdown",
   "metadata": {},
   "source": [
    "<img src=\"../img/cbc-webscraping-2.png\">"
   ]
  },
  {
   "cell_type": "markdown",
   "metadata": {},
   "source": [
    "This _input_ HTML element is what we would like to interact with - specifically, to submit text into this search box element."
   ]
  },
  {
   "cell_type": "code",
   "execution_count": 16,
   "metadata": {},
   "outputs": [],
   "source": [
    "search_box = driver.find_element_by_id(\"gn-search\")"
   ]
  },
  {
   "cell_type": "markdown",
   "metadata": {},
   "source": [
    "To submit our search term 'AltaML' into this element, we use the _.send_keys()_ method:"
   ]
  },
  {
   "cell_type": "code",
   "execution_count": 17,
   "metadata": {},
   "outputs": [],
   "source": [
    "search_string = \"AltaML\"\n",
    "search_box.send_keys(search_string)"
   ]
  },
  {
   "cell_type": "markdown",
   "metadata": {},
   "source": [
    "Now that we've submitted the text (you should see this in real-time in your opened browser) we need to click the \"SEARCH\" button to submit it.  \n",
    "Find this element by inspection like we've done before:"
   ]
  },
  {
   "cell_type": "markdown",
   "metadata": {},
   "source": [
    "<img src=\"../img/cbc-webscraping-3.png\">"
   ]
  },
  {
   "cell_type": "markdown",
   "metadata": {},
   "source": [
    "It is a button element (this is often the case on other websites as well).  \n",
    "Like before, find this element and click it! This can be done in one step:"
   ]
  },
  {
   "cell_type": "code",
   "execution_count": 18,
   "metadata": {},
   "outputs": [],
   "source": [
    "driver.find_element_by_class_name(\"searchButton\").click()"
   ]
  },
  {
   "cell_type": "markdown",
   "metadata": {},
   "source": [
    "Fantastic! Your browser should have searched for \"AltaML\" in the search box, clicked the search button, and returned a page with 1 article on it:"
   ]
  },
  {
   "cell_type": "markdown",
   "metadata": {},
   "source": [
    "<img src=\"../img/cbc-webscraping-4.png\">"
   ]
  },
  {
   "cell_type": "markdown",
   "metadata": {},
   "source": [
    "Now, let's click on the article to open it in full. You may know how to do this now - you just need to figure out what element to click!  \n",
    "**Remember, there are often many elements stacked together that represent something - if it is a link of some sort that leads to another page, look for an _a_ element:**"
   ]
  },
  {
   "cell_type": "markdown",
   "metadata": {},
   "source": [
    "<img src=\"../img/cbc-webscraping-5.png\">"
   ]
  },
  {
   "cell_type": "markdown",
   "metadata": {},
   "source": [
    "When I had right-clicked on part of the article's box, it initially highlighted a header element, but it is probably the higher level _a_ element we need to click:"
   ]
  },
  {
   "cell_type": "code",
   "execution_count": 22,
   "metadata": {},
   "outputs": [
    {
     "ename": "NoSuchElementException",
     "evalue": "Message: Unable to locate element: .card cardListing rightImage sclt-contentlistcard0\n",
     "output_type": "error",
     "traceback": [
      "\u001b[0;31m---------------------------------------------------------------------------\u001b[0m",
      "\u001b[0;31mNoSuchElementException\u001b[0m                    Traceback (most recent call last)",
      "\u001b[0;32m<ipython-input-22-8b1cc848d3f9>\u001b[0m in \u001b[0;36m<module>\u001b[0;34m\u001b[0m\n\u001b[0;32m----> 1\u001b[0;31m \u001b[0mdriver\u001b[0m\u001b[0;34m.\u001b[0m\u001b[0mfind_element_by_class_name\u001b[0m\u001b[0;34m(\u001b[0m\u001b[0;34m\"card cardListing rightImage sclt-contentlistcard0\"\u001b[0m\u001b[0;34m)\u001b[0m\u001b[0;34m.\u001b[0m\u001b[0mclick\u001b[0m\u001b[0;34m(\u001b[0m\u001b[0;34m)\u001b[0m\u001b[0;34m\u001b[0m\u001b[0;34m\u001b[0m\u001b[0m\n\u001b[0m",
      "\u001b[0;32m/usr/lib/python3/dist-packages/selenium/webdriver/remote/webdriver.py\u001b[0m in \u001b[0;36mfind_element_by_class_name\u001b[0;34m(self, name)\u001b[0m\n\u001b[1;32m    486\u001b[0m             \u001b[0mdriver\u001b[0m\u001b[0;34m.\u001b[0m\u001b[0mfind_element_by_class_name\u001b[0m\u001b[0;34m(\u001b[0m\u001b[0;34m'foo'\u001b[0m\u001b[0;34m)\u001b[0m\u001b[0;34m\u001b[0m\u001b[0;34m\u001b[0m\u001b[0m\n\u001b[1;32m    487\u001b[0m         \"\"\"\n\u001b[0;32m--> 488\u001b[0;31m         \u001b[0;32mreturn\u001b[0m \u001b[0mself\u001b[0m\u001b[0;34m.\u001b[0m\u001b[0mfind_element\u001b[0m\u001b[0;34m(\u001b[0m\u001b[0mby\u001b[0m\u001b[0;34m=\u001b[0m\u001b[0mBy\u001b[0m\u001b[0;34m.\u001b[0m\u001b[0mCLASS_NAME\u001b[0m\u001b[0;34m,\u001b[0m \u001b[0mvalue\u001b[0m\u001b[0;34m=\u001b[0m\u001b[0mname\u001b[0m\u001b[0;34m)\u001b[0m\u001b[0;34m\u001b[0m\u001b[0;34m\u001b[0m\u001b[0m\n\u001b[0m\u001b[1;32m    489\u001b[0m \u001b[0;34m\u001b[0m\u001b[0m\n\u001b[1;32m    490\u001b[0m     \u001b[0;32mdef\u001b[0m \u001b[0mfind_elements_by_class_name\u001b[0m\u001b[0;34m(\u001b[0m\u001b[0mself\u001b[0m\u001b[0;34m,\u001b[0m \u001b[0mname\u001b[0m\u001b[0;34m)\u001b[0m\u001b[0;34m:\u001b[0m\u001b[0;34m\u001b[0m\u001b[0;34m\u001b[0m\u001b[0m\n",
      "\u001b[0;32m/usr/lib/python3/dist-packages/selenium/webdriver/remote/webdriver.py\u001b[0m in \u001b[0;36mfind_element\u001b[0;34m(self, by, value)\u001b[0m\n\u001b[1;32m    856\u001b[0m         return self.execute(Command.FIND_ELEMENT, {\n\u001b[1;32m    857\u001b[0m             \u001b[0;34m'using'\u001b[0m\u001b[0;34m:\u001b[0m \u001b[0mby\u001b[0m\u001b[0;34m,\u001b[0m\u001b[0;34m\u001b[0m\u001b[0;34m\u001b[0m\u001b[0m\n\u001b[0;32m--> 858\u001b[0;31m             'value': value})['value']\n\u001b[0m\u001b[1;32m    859\u001b[0m \u001b[0;34m\u001b[0m\u001b[0m\n\u001b[1;32m    860\u001b[0m     \u001b[0;32mdef\u001b[0m \u001b[0mfind_elements\u001b[0m\u001b[0;34m(\u001b[0m\u001b[0mself\u001b[0m\u001b[0;34m,\u001b[0m \u001b[0mby\u001b[0m\u001b[0;34m=\u001b[0m\u001b[0mBy\u001b[0m\u001b[0;34m.\u001b[0m\u001b[0mID\u001b[0m\u001b[0;34m,\u001b[0m \u001b[0mvalue\u001b[0m\u001b[0;34m=\u001b[0m\u001b[0;32mNone\u001b[0m\u001b[0;34m)\u001b[0m\u001b[0;34m:\u001b[0m\u001b[0;34m\u001b[0m\u001b[0;34m\u001b[0m\u001b[0m\n",
      "\u001b[0;32m/usr/lib/python3/dist-packages/selenium/webdriver/remote/webdriver.py\u001b[0m in \u001b[0;36mexecute\u001b[0;34m(self, driver_command, params)\u001b[0m\n\u001b[1;32m    309\u001b[0m         \u001b[0mresponse\u001b[0m \u001b[0;34m=\u001b[0m \u001b[0mself\u001b[0m\u001b[0;34m.\u001b[0m\u001b[0mcommand_executor\u001b[0m\u001b[0;34m.\u001b[0m\u001b[0mexecute\u001b[0m\u001b[0;34m(\u001b[0m\u001b[0mdriver_command\u001b[0m\u001b[0;34m,\u001b[0m \u001b[0mparams\u001b[0m\u001b[0;34m)\u001b[0m\u001b[0;34m\u001b[0m\u001b[0;34m\u001b[0m\u001b[0m\n\u001b[1;32m    310\u001b[0m         \u001b[0;32mif\u001b[0m \u001b[0mresponse\u001b[0m\u001b[0;34m:\u001b[0m\u001b[0;34m\u001b[0m\u001b[0;34m\u001b[0m\u001b[0m\n\u001b[0;32m--> 311\u001b[0;31m             \u001b[0mself\u001b[0m\u001b[0;34m.\u001b[0m\u001b[0merror_handler\u001b[0m\u001b[0;34m.\u001b[0m\u001b[0mcheck_response\u001b[0m\u001b[0;34m(\u001b[0m\u001b[0mresponse\u001b[0m\u001b[0;34m)\u001b[0m\u001b[0;34m\u001b[0m\u001b[0;34m\u001b[0m\u001b[0m\n\u001b[0m\u001b[1;32m    312\u001b[0m             response['value'] = self._unwrap_value(\n\u001b[1;32m    313\u001b[0m                 response.get('value', None))\n",
      "\u001b[0;32m/usr/lib/python3/dist-packages/selenium/webdriver/remote/errorhandler.py\u001b[0m in \u001b[0;36mcheck_response\u001b[0;34m(self, response)\u001b[0m\n\u001b[1;32m    235\u001b[0m         \u001b[0;32melif\u001b[0m \u001b[0mexception_class\u001b[0m \u001b[0;34m==\u001b[0m \u001b[0mUnexpectedAlertPresentException\u001b[0m \u001b[0;32mand\u001b[0m \u001b[0;34m'alert'\u001b[0m \u001b[0;32min\u001b[0m \u001b[0mvalue\u001b[0m\u001b[0;34m:\u001b[0m\u001b[0;34m\u001b[0m\u001b[0;34m\u001b[0m\u001b[0m\n\u001b[1;32m    236\u001b[0m             \u001b[0;32mraise\u001b[0m \u001b[0mexception_class\u001b[0m\u001b[0;34m(\u001b[0m\u001b[0mmessage\u001b[0m\u001b[0;34m,\u001b[0m \u001b[0mscreen\u001b[0m\u001b[0;34m,\u001b[0m \u001b[0mstacktrace\u001b[0m\u001b[0;34m,\u001b[0m \u001b[0mvalue\u001b[0m\u001b[0;34m[\u001b[0m\u001b[0;34m'alert'\u001b[0m\u001b[0;34m]\u001b[0m\u001b[0;34m.\u001b[0m\u001b[0mget\u001b[0m\u001b[0;34m(\u001b[0m\u001b[0;34m'text'\u001b[0m\u001b[0;34m)\u001b[0m\u001b[0;34m)\u001b[0m\u001b[0;34m\u001b[0m\u001b[0;34m\u001b[0m\u001b[0m\n\u001b[0;32m--> 237\u001b[0;31m         \u001b[0;32mraise\u001b[0m \u001b[0mexception_class\u001b[0m\u001b[0;34m(\u001b[0m\u001b[0mmessage\u001b[0m\u001b[0;34m,\u001b[0m \u001b[0mscreen\u001b[0m\u001b[0;34m,\u001b[0m \u001b[0mstacktrace\u001b[0m\u001b[0;34m)\u001b[0m\u001b[0;34m\u001b[0m\u001b[0;34m\u001b[0m\u001b[0m\n\u001b[0m\u001b[1;32m    238\u001b[0m \u001b[0;34m\u001b[0m\u001b[0m\n\u001b[1;32m    239\u001b[0m     \u001b[0;32mdef\u001b[0m \u001b[0m_value_or_default\u001b[0m\u001b[0;34m(\u001b[0m\u001b[0mself\u001b[0m\u001b[0;34m,\u001b[0m \u001b[0mobj\u001b[0m\u001b[0;34m,\u001b[0m \u001b[0mkey\u001b[0m\u001b[0;34m,\u001b[0m \u001b[0mdefault\u001b[0m\u001b[0;34m)\u001b[0m\u001b[0;34m:\u001b[0m\u001b[0;34m\u001b[0m\u001b[0;34m\u001b[0m\u001b[0m\n",
      "\u001b[0;31mNoSuchElementException\u001b[0m: Message: Unable to locate element: .card cardListing rightImage sclt-contentlistcard0\n"
     ]
    }
   ],
   "source": [
    "driver.find_element_by_class_name(\"card cardListing rightImage sclt-contentlistcard0\").click()"
   ]
  },
  {
   "cell_type": "markdown",
   "metadata": {},
   "source": [
    "Hm, this doesn't seem to work, even though the element is right there! Since it appears I can really click on _any_ part of the returned box, I'll just try another part of this element - the card_content:"
   ]
  },
  {
   "cell_type": "code",
   "execution_count": 23,
   "metadata": {},
   "outputs": [],
   "source": [
    "driver.find_element_by_class_name(\"card-content\").click()"
   ]
  },
  {
   "cell_type": "markdown",
   "metadata": {},
   "source": [
    "That appears to work, and will open up a the page.  \n",
    "Sometimes figuring out the elements necessary to click is tedious - but once you've done it once, you can run this script as many times as you'd like."
   ]
  },
  {
   "cell_type": "markdown",
   "metadata": {},
   "source": [
    "**Scraping Data from the CBC Article on AltaML**\n",
    "\n",
    "The way we grab text from HTML elements was shown in the webscraping-walkthrough available in this same repository.  \n",
    "However, for the sake of completeness, we will do this again here.  \n",
    "\n",
    "Let us grab:\n",
    "\n",
    "- the title of the article\n",
    "- the subtitle of the article\n",
    "- the date and time this article was posted\n",
    "- all text content from the article text (insofar as it relates to the real article content - not advertising links in between)\n",
    "\n",
    "Time for some inspecting! Go ahead and inspect the page by right-clicking the items listed above, and note the elements that they reside in.  \n",
    "Remember that _selenium_ does not return text from HTML elements (I have no idea why they wouldn't allow this!) as it is meant more for web navigating, not necessarily scraping.  \n",
    "For the scraping, we will simply ask the page for its HTML contents and re-create the HTML tree using the _lxml_ package."
   ]
  },
  {
   "cell_type": "markdown",
   "metadata": {},
   "source": [
    "First, grab the HTML content from the page with selenium:"
   ]
  },
  {
   "cell_type": "code",
   "execution_count": 28,
   "metadata": {},
   "outputs": [],
   "source": [
    "page_html = driver.page_source"
   ]
  },
  {
   "cell_type": "markdown",
   "metadata": {},
   "source": [
    "Import the lxml package and re-create the HTML tree:"
   ]
  },
  {
   "cell_type": "code",
   "execution_count": 29,
   "metadata": {},
   "outputs": [],
   "source": [
    "from lxml import html\n",
    "\n",
    "html = html.fromstring(page_html)"
   ]
  },
  {
   "cell_type": "markdown",
   "metadata": {},
   "source": [
    "Then, we grab all of the elements using either xpath or cssselect (I choose to use xpath here - they both work).  \n",
    "As a quick reminder, I begin the xpath with two slashes (//) to jump directly to some element, instead of going off of the absolute tree path from the top.  \n",
    "To select the text from a _div_ element with the class=\"cool-guy\" I would do \"//div[@class='cool-guy']/text()\":"
   ]
  },
  {
   "cell_type": "code",
   "execution_count": 40,
   "metadata": {},
   "outputs": [],
   "source": [
    "title = html.xpath(\"//h1[@class='detailHeadline']/text()\")[0] # it returns a list, so I just select the first and only option\n",
    "subtitle = html.xpath(\"//h2[@class='deck']/text()\")[0]"
   ]
  },
  {
   "cell_type": "markdown",
   "metadata": {},
   "source": [
    "It looks like the actual content of the article is a series of paragraph elements (_p_) stored in a _div_ element with class=\"story\".  \n",
    "First, I find this _div_ element, then go into the _span_ element just below, then select _p_ elements inside this, and retrieve their text.  \n",
    "Since there are numerous of these elements that fit the xpath, it returns a list of them:"
   ]
  },
  {
   "cell_type": "code",
   "execution_count": 59,
   "metadata": {},
   "outputs": [],
   "source": [
    "paragraphs = html.xpath(\"//div[@class='story']/span/p/text()\")"
   ]
  },
  {
   "cell_type": "code",
   "execution_count": 60,
   "metadata": {},
   "outputs": [
    {
     "data": {
      "text/plain": [
       "['Edmonton scientists and doctors are collaborating with a multinational drug company to develop a new tool which will help doctors predict how aging affects health.',\n",
       " 'AltaML, an Edmonton software company developing artificial intelligence, and doctors associated with the Oliver Primary Care Network will work with pharmaceutical giant Boehringer Ingelheim Canada\\xa0Ltd. to develop a frailty index which clinicians can use to predict chronic illnesses like diabetes, heart disease and mental health conditions.\\xa0',\n",
       " '\"We\\'re now using the latest techniques to try to manage very complicated diseases and we\\'re doing some of these things for the first time in Edmonton,\" said\\xa0Reg Joseph, CEO of Health City, an Edmonton non-profit group funded by the city, which is bringing the players together.',\n",
       " '\"This is very exciting as a community because we have so much strength in artificial intelligence and machine learning and here\\'s a great example of one of our companies being able to bridge the gap and actually develop new technologies,\" Joseph\\xa0told CBC News.',\n",
       " 'Boehringer Ingelheim Canada Ltd.\\xa0is investing in new methods of treating that \"go beyond the pill,\"\\xa0Joseph said.',\n",
       " 'AltaML\\xa0CEO\\xa0Cory Janssen\\xa0said of his team of scientists take\\xa0large data and put\\xa0it in algorithms and \"looking for those correlations, those permutations, those patterns that maybe the human brain can\\'t see.\"',\n",
       " '\"Machine learning is when we\\'re teaching algorithms to adapt without being explicitly programmed.\"\\xa0',\n",
       " \"Janssen sees Edmonton's\\xa0future as combining expertise in AI with health and other industries like oil and gas to help\\xa0diversify the economy.\",\n",
       " '\"We literally have this pipeline of data scientists that is second to none,\" he said. \\xa0',\n",
       " '\"There\\'s so many amazing researchers on the health side of things, I think the answers are going to be combining that excellence that we have in health with the excellence in AI and ML.\"',\n",
       " 'Mayor Don Iveson foreshadowed the collaboration in his State of the City speech Tuesday at the Edmonton Convention Centre.',\n",
       " 'Iveson referred directly to AltaML and the collaboration as an example of Edmonton succeeding in diversifying its economy.',\n",
       " 'The parties are\\xa0announcing\\xa0the collaboration Friday at the Seniors Association of Greater Edmonton.']"
      ]
     },
     "execution_count": 60,
     "metadata": {},
     "output_type": "execute_result"
    }
   ],
   "source": [
    "paragraphs"
   ]
  },
  {
   "cell_type": "markdown",
   "metadata": {},
   "source": [
    "Let's concatenate all of the text into one long string, and then replace all of the _\\xa0_ characters with spaces."
   ]
  },
  {
   "cell_type": "code",
   "execution_count": 61,
   "metadata": {},
   "outputs": [],
   "source": [
    "paragraphs = \"\".join(paragraphs)\n",
    "paragraphs = paragraphs.replace('\\xa0', ' ')"
   ]
  },
  {
   "cell_type": "markdown",
   "metadata": {},
   "source": [
    "Finally, print out our results."
   ]
  },
  {
   "cell_type": "code",
   "execution_count": 79,
   "metadata": {},
   "outputs": [
    {
     "name": "stdout",
     "output_type": "stream",
     "text": [
      "Title :\n",
      "Edmonton doctors, AI scientists team up with drug giant in health software project\n",
      "\n",
      "\n",
      "Subtitle :\n",
      "'We're now using the latest techniques to try to manage very complicated diseases'\n",
      "\n",
      "\n",
      "Body :\n",
      "Edmonton scientists and doctors are collaborating with a multinational drug company to develop a new tool which will help doctors predict how aging affects health.AltaML, an Edmonton software company developing artificial intelligence, and doctors associated with the Oliver Primary Care Network will work with pharmaceutical giant Boehringer Ingelheim Canada Ltd. to develop a frailty index which clinicians can use to predict chronic illnesses like diabetes, heart disease and mental health conditions. \"We're now using the latest techniques to try to manage very complicated diseases and we're doing some of these things for the first time in Edmonton,\" said Reg Joseph, CEO of Health City, an Edmonton non-profit group funded by the city, which is bringing the players together.\"This is very exciting as a community because we have so much strength in artificial intelligence and machine learning and here's a great example of one of our companies being able to bridge the gap and actually develop new technologies,\" Joseph told CBC News.Boehringer Ingelheim Canada Ltd. is investing in new methods of treating that \"go beyond the pill,\" Joseph said.AltaML CEO Cory Janssen said of his team of scientists take large data and put it in algorithms and \"looking for those correlations, those permutations, those patterns that maybe the human brain can't see.\"\"Machine learning is when we're teaching algorithms to adapt without being explicitly programmed.\" Janssen sees Edmonton's future as combining expertise in AI with health and other industries like oil and gas to help diversify the economy.\"We literally have this pipeline of data scientists that is second to none,\" he said.  \"There's so many amazing researchers on the health side of things, I think the answers are going to be combining that excellence that we have in health with the excellence in AI and ML.\"Mayor Don Iveson foreshadowed the collaboration in his State of the City speech Tuesday at the Edmonton Convention Centre.Iveson referred directly to AltaML and the collaboration as an example of Edmonton succeeding in diversifying its economy.The parties are announcing the collaboration Friday at the Seniors Association of Greater Edmonton.\n"
     ]
    }
   ],
   "source": [
    "def print_article():\n",
    "    \"\"\"Print the retrieved AltaML article from the CBC website.\"\"\"\n",
    "    print(f\"Title :\\n{title}\")\n",
    "    print(\"\\n\")\n",
    "    print(f\"Subtitle :\\n{subtitle}\")\n",
    "    print(\"\\n\")\n",
    "    print(f\"Body :\\n{paragraphs}\")\n",
    "    \n",
    "print_article()"
   ]
  },
  {
   "cell_type": "markdown",
   "metadata": {},
   "source": [
    "**Finally, close the driver!**"
   ]
  },
  {
   "cell_type": "code",
   "execution_count": null,
   "metadata": {},
   "outputs": [],
   "source": [
    "driver.close()"
   ]
  },
  {
   "cell_type": "markdown",
   "metadata": {},
   "source": [
    "### **Ta-Da! You have completed point-and-click web-browsing programmatically and scraped the contents of a web-article.**  \n",
    "I hope you can see how powerful these methods can be, especially when time is taken to understand the elements of a webpage's HTML code.  \n",
    "**To access only the source-code for this project, please see the relevant python file in the same repository (cbc-programmatic-webbrowsing-code.py)**"
   ]
  }
 ],
 "metadata": {
  "kernelspec": {
   "display_name": "Python 3",
   "language": "python",
   "name": "python3"
  },
  "language_info": {
   "codemirror_mode": {
    "name": "ipython",
    "version": 3
   },
   "file_extension": ".py",
   "mimetype": "text/x-python",
   "name": "python",
   "nbconvert_exporter": "python",
   "pygments_lexer": "ipython3",
   "version": "3.6.7"
  }
 },
 "nbformat": 4,
 "nbformat_minor": 2
}
